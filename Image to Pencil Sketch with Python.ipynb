{
 "cells": [
  {
   "cell_type": "code",
   "execution_count": 1,
   "id": "58ee9945",
   "metadata": {},
   "outputs": [],
   "source": [
    "import cv2"
   ]
  },
  {
   "cell_type": "code",
   "execution_count": 2,
   "id": "3468d538",
   "metadata": {},
   "outputs": [],
   "source": [
    "img=cv2.imread(r'C:\\Users\\HP\\OneDrive\\Desktop\\Cat.jpg')"
   ]
  },
  {
   "cell_type": "code",
   "execution_count": 3,
   "id": "2aada563",
   "metadata": {},
   "outputs": [],
   "source": [
    "gray_image= cv2.cvtColor(img, cv2.COLOR_BGR2GRAY)"
   ]
  },
  {
   "cell_type": "code",
   "execution_count": 4,
   "id": "697a96c4",
   "metadata": {},
   "outputs": [],
   "source": [
    "inverted_gray_image= 255-gray_image"
   ]
  },
  {
   "cell_type": "code",
   "execution_count": 5,
   "id": "2d96b6db",
   "metadata": {},
   "outputs": [],
   "source": [
    "blurred_img = cv2.GaussianBlur(inverted_gray_image, (21,21), 0)"
   ]
  },
  {
   "cell_type": "code",
   "execution_count": 6,
   "id": "0d1df753",
   "metadata": {},
   "outputs": [],
   "source": [
    "inverted_blurred_img = 255-blurred_img"
   ]
  },
  {
   "cell_type": "code",
   "execution_count": 7,
   "id": "8f58320d",
   "metadata": {},
   "outputs": [],
   "source": [
    "pencil_sketch_IMG = cv2.divide(gray_image, inverted_blurred_img, scale=256.0)"
   ]
  },
  {
   "cell_type": "code",
   "execution_count": 8,
   "id": "562ecee4",
   "metadata": {},
   "outputs": [],
   "source": [
    "cv2.imshow('cat image',img)"
   ]
  },
  {
   "cell_type": "code",
   "execution_count": 9,
   "id": "9fa61df9",
   "metadata": {},
   "outputs": [],
   "source": [
    "cv2.imshow('cat image b&W',pencil_sketch_IMG)"
   ]
  },
  {
   "cell_type": "code",
   "execution_count": 10,
   "id": "1560dad7",
   "metadata": {},
   "outputs": [
    {
     "data": {
      "text/plain": [
       "-1"
      ]
     },
     "execution_count": 10,
     "metadata": {},
     "output_type": "execute_result"
    }
   ],
   "source": [
    "cv2.waitKey(0)"
   ]
  }
 ],
 "metadata": {
  "kernelspec": {
   "display_name": "Python 3",
   "language": "python",
   "name": "python3"
  },
  "language_info": {
   "codemirror_mode": {
    "name": "ipython",
    "version": 3
   },
   "file_extension": ".py",
   "mimetype": "text/x-python",
   "name": "python",
   "nbconvert_exporter": "python",
   "pygments_lexer": "ipython3",
   "version": "3.8.8"
  }
 },
 "nbformat": 4,
 "nbformat_minor": 5
}
